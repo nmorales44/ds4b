{
  "nbformat": 4,
  "nbformat_minor": 0,
  "metadata": {
    "colab": {
      "name": "Y ahora ustedes...Analizamos los delitos_2020.ipynb",
      "provenance": [],
      "collapsed_sections": []
    },
    "kernelspec": {
      "name": "python3",
      "display_name": "Python 3"
    },
    "language_info": {
      "name": "python"
    }
  },
  "cells": [
    {
      "cell_type": "markdown",
      "metadata": {
        "id": "PaPylqUxSnKi"
      },
      "source": [
        "## Descargar csv de delitos en la página de Buenos Aires Data: https://data.buenosaires.gob.ar/dataset/delitos"
      ]
    },
    {
      "cell_type": "markdown",
      "metadata": {
        "id": "rABEWQGBw1y2"
      },
      "source": [
        "Importamos las librerias que utilizaremos"
      ]
    },
    {
      "cell_type": "code",
      "metadata": {
        "id": "AQGXcUlgaCqx"
      },
      "source": [
        "import pandas as pd\n",
        "import plotly.express as px  \n",
        "import plotly.graph_objects as go"
      ],
      "execution_count": null,
      "outputs": []
    },
    {
      "cell_type": "code",
      "metadata": {
        "colab": {
          "base_uri": "https://localhost:8080/"
        },
        "id": "vg9wKqFJKw3B",
        "outputId": "dc2e9e56-02f5-43a9-e292-9fb76f878275"
      },
      "source": [
        "df = pd.read_csv('')"
      ],
      "execution_count": null,
      "outputs": [
        {
          "output_type": "stream",
          "text": [
            "/usr/local/lib/python3.7/dist-packages/IPython/core/interactiveshell.py:2718: DtypeWarning:\n",
            "\n",
            "Columns (5) have mixed types.Specify dtype option on import or set low_memory=False.\n",
            "\n"
          ],
          "name": "stderr"
        }
      ]
    },
    {
      "cell_type": "code",
      "metadata": {
        "id": "ZvGFTpp7jOvL"
      },
      "source": [
        ""
      ],
      "execution_count": null,
      "outputs": []
    },
    {
      "cell_type": "code",
      "metadata": {
        "id": "_4e_-sEXbOeI"
      },
      "source": [
        ""
      ],
      "execution_count": null,
      "outputs": []
    },
    {
      "cell_type": "markdown",
      "metadata": {
        "id": "Y6fzYo751W3c"
      },
      "source": [
        "Otra forma de ver solo el tipo por cada columna"
      ]
    },
    {
      "cell_type": "code",
      "metadata": {
        "id": "E5fDGLu5QxWm"
      },
      "source": [
        ""
      ],
      "execution_count": null,
      "outputs": []
    },
    {
      "cell_type": "markdown",
      "metadata": {
        "id": "ZNyrOH5YucdB"
      },
      "source": [
        "Si queremos saber solo el tamaño de la base de datos, usamos el comando shape\n"
      ]
    },
    {
      "cell_type": "code",
      "metadata": {
        "id": "XeBn7ddyubhH"
      },
      "source": [
        ""
      ],
      "execution_count": null,
      "outputs": []
    },
    {
      "cell_type": "markdown",
      "metadata": {
        "id": "Wded499owha4"
      },
      "source": [
        "Si queremos ver el total de los valores que componen mi base de datos usamos size"
      ]
    },
    {
      "cell_type": "code",
      "metadata": {
        "id": "iBUvpNfqwqLm"
      },
      "source": [
        ""
      ],
      "execution_count": null,
      "outputs": []
    },
    {
      "cell_type": "markdown",
      "metadata": {
        "id": "pWev4hNy1lwQ"
      },
      "source": [
        "Cantidad de valores nulos por columnas"
      ]
    },
    {
      "cell_type": "code",
      "metadata": {
        "id": "lJQj_J7_bphV"
      },
      "source": [
        ""
      ],
      "execution_count": null,
      "outputs": []
    },
    {
      "cell_type": "markdown",
      "metadata": {
        "id": "pRS_V3kn1zPI"
      },
      "source": [
        "Renombramos la columna tipo para que sea mas transparente "
      ]
    },
    {
      "cell_type": "code",
      "metadata": {
        "id": "cjkCNBKwP8NW"
      },
      "source": [
        ""
      ],
      "execution_count": null,
      "outputs": []
    },
    {
      "cell_type": "code",
      "metadata": {
        "id": "Qg8HvzNTQlFh"
      },
      "source": [
        ""
      ],
      "execution_count": null,
      "outputs": []
    },
    {
      "cell_type": "markdown",
      "metadata": {
        "id": "v7rkzUHN-muI"
      },
      "source": [
        "A la columna comuna pasarla a int porque esta como flotante y no es correcto."
      ]
    },
    {
      "cell_type": "code",
      "metadata": {
        "id": "4NiHFw85X9wW"
      },
      "source": [
        ""
      ],
      "execution_count": null,
      "outputs": []
    },
    {
      "cell_type": "code",
      "metadata": {
        "id": "aan-E_zlVJTp"
      },
      "source": [
        ""
      ],
      "execution_count": null,
      "outputs": []
    },
    {
      "cell_type": "code",
      "metadata": {
        "id": "qZjTI3dbYGF7"
      },
      "source": [
        ""
      ],
      "execution_count": null,
      "outputs": []
    },
    {
      "cell_type": "code",
      "metadata": {
        "id": "q46qnjlCdcUj"
      },
      "source": [
        ""
      ],
      "execution_count": null,
      "outputs": []
    },
    {
      "cell_type": "markdown",
      "metadata": {
        "id": "imOAqlYhVLRm"
      },
      "source": [
        "Veamos los dias"
      ]
    },
    {
      "cell_type": "code",
      "metadata": {
        "id": "V4VoR_AQexbR"
      },
      "source": [
        ""
      ],
      "execution_count": null,
      "outputs": []
    },
    {
      "cell_type": "code",
      "metadata": {
        "id": "71HCOxQxbUCy"
      },
      "source": [
        ""
      ],
      "execution_count": null,
      "outputs": []
    },
    {
      "cell_type": "code",
      "metadata": {
        "id": "YReAkRU5Dc7h"
      },
      "source": [
        ""
      ],
      "execution_count": null,
      "outputs": []
    },
    {
      "cell_type": "markdown",
      "metadata": {
        "id": "c9MZGOPvgxqX"
      },
      "source": [
        "Tipo de delitos\n",
        "\n"
      ]
    },
    {
      "cell_type": "code",
      "metadata": {
        "id": "_DJ4S73zcOcX"
      },
      "source": [
        ""
      ],
      "execution_count": null,
      "outputs": []
    },
    {
      "cell_type": "code",
      "metadata": {
        "id": "n0Bs1NkcErxj"
      },
      "source": [
        ""
      ],
      "execution_count": null,
      "outputs": []
    },
    {
      "cell_type": "markdown",
      "metadata": {
        "id": "1bHWqa1HtKXK"
      },
      "source": [
        "Cantidad de delitos por mes"
      ]
    },
    {
      "cell_type": "code",
      "metadata": {
        "id": "t3_e4z31Jg1W"
      },
      "source": [
        ""
      ],
      "execution_count": null,
      "outputs": []
    },
    {
      "cell_type": "markdown",
      "metadata": {
        "id": "xUJ6K0app0X5"
      },
      "source": [
        "Graficamos usando Plotly. Tambien tenemos template para customizar los estilos https://plotly.com/python/templates/"
      ]
    },
    {
      "cell_type": "code",
      "metadata": {
        "colab": {
          "base_uri": "https://localhost:8080/"
        },
        "id": "P0EjTTYtrnxS",
        "outputId": "81c35618-b323-4933-fc43-813d8653d702"
      },
      "source": [
        "import plotly.io as pio\n",
        "pio.templates"
      ],
      "execution_count": null,
      "outputs": [
        {
          "output_type": "execute_result",
          "data": {
            "text/plain": [
              "Templates configuration\n",
              "-----------------------\n",
              "    Default template: 'plotly'\n",
              "    Available templates:\n",
              "        ['ggplot2', 'seaborn', 'simple_white', 'plotly',\n",
              "         'plotly_white', 'plotly_dark', 'presentation', 'xgridoff',\n",
              "         'ygridoff', 'gridon', 'none']"
            ]
          },
          "metadata": {
            "tags": []
          },
          "execution_count": 43
        }
      ]
    },
    {
      "cell_type": "code",
      "metadata": {
        "id": "-NJ7Sw15F8sN"
      },
      "source": [
        ""
      ],
      "execution_count": null,
      "outputs": []
    },
    {
      "cell_type": "markdown",
      "metadata": {
        "id": "Y2bmRFmGg5PT"
      },
      "source": [
        "Cantidad de delitos por dia"
      ]
    },
    {
      "cell_type": "code",
      "metadata": {
        "id": "05yg-St0Mo2l"
      },
      "source": [
        ""
      ],
      "execution_count": null,
      "outputs": []
    },
    {
      "cell_type": "markdown",
      "metadata": {
        "id": "V6tAF86K5RV8"
      },
      "source": [
        "Grafiquemos.."
      ]
    },
    {
      "cell_type": "code",
      "metadata": {
        "id": "itRxh1a8Qjsh"
      },
      "source": [
        ""
      ],
      "execution_count": null,
      "outputs": []
    },
    {
      "cell_type": "markdown",
      "metadata": {
        "id": "2WzAyFVORUOj"
      },
      "source": [
        "Veamos solo los casos de homicidio por barrio. ¿Se relacionará con la cantidad de casos totales por barrios?"
      ]
    },
    {
      "cell_type": "code",
      "metadata": {
        "id": "ubIW0Exowmwt"
      },
      "source": [
        ""
      ],
      "execution_count": null,
      "outputs": []
    },
    {
      "cell_type": "code",
      "metadata": {
        "id": "fv3pHgxoxcA8"
      },
      "source": [
        ""
      ],
      "execution_count": null,
      "outputs": []
    },
    {
      "cell_type": "markdown",
      "metadata": {
        "id": "0dwDZ5hdLZLT"
      },
      "source": [
        "# Cantidad de delitos por barrios\n"
      ]
    },
    {
      "cell_type": "markdown",
      "metadata": {
        "id": "h4osprf-LhNE"
      },
      "source": [
        "Lo que puedo hacer es filtrar por ejemplo los barrios con mas de 1000 delitos y graficar, para saber cual es el que tiene mas delitos. "
      ]
    },
    {
      "cell_type": "code",
      "metadata": {
        "id": "UmqhS09VptHq"
      },
      "source": [
        ""
      ],
      "execution_count": null,
      "outputs": []
    },
    {
      "cell_type": "markdown",
      "metadata": {
        "id": "4izRp4Q_frVh"
      },
      "source": [
        "Me interesa saber la cantidad de delitos por comuna, porque por ejemplo puedo elegir un barrio que este en la comuna con menos delitos."
      ]
    },
    {
      "cell_type": "code",
      "metadata": {
        "id": "IZy_gxY96osh"
      },
      "source": [
        ""
      ],
      "execution_count": null,
      "outputs": []
    },
    {
      "cell_type": "code",
      "metadata": {
        "id": "x3M3jXfGz81z"
      },
      "source": [
        ""
      ],
      "execution_count": null,
      "outputs": []
    },
    {
      "cell_type": "markdown",
      "metadata": {
        "id": "a4AAebR2MqDS"
      },
      "source": [
        "¿Cuántos casos hay por tipo de delito?"
      ]
    },
    {
      "cell_type": "code",
      "metadata": {
        "id": "0lNPtD-6R6BD"
      },
      "source": [
        ""
      ],
      "execution_count": null,
      "outputs": []
    },
    {
      "cell_type": "code",
      "metadata": {
        "id": "WAuROY8CMCDn"
      },
      "source": [
        ""
      ],
      "execution_count": null,
      "outputs": []
    },
    {
      "cell_type": "code",
      "metadata": {
        "id": "tifQ0dTx02F4"
      },
      "source": [
        ""
      ],
      "execution_count": null,
      "outputs": []
    },
    {
      "cell_type": "markdown",
      "metadata": {
        "id": "yRws-UbW-hFh"
      },
      "source": [
        "# Y ahora nuestro mapa!!"
      ]
    },
    {
      "cell_type": "markdown",
      "metadata": {
        "id": "yWS4i60b5yQO"
      },
      "source": [
        "Nos hacemos la cuenta en https://account.mapbox.com/ y usamos el token."
      ]
    },
    {
      "cell_type": "markdown",
      "metadata": {
        "id": "4YWH155e3aPH"
      },
      "source": [
        "Informativo: Diferencia entre Mapbox Maps vs Geo Maps: https://plotly.com/python/mapbox-layers/ "
      ]
    },
    {
      "cell_type": "code",
      "metadata": {
        "id": "pbYcvbop7F8X"
      },
      "source": [
        ""
      ],
      "execution_count": null,
      "outputs": []
    },
    {
      "cell_type": "markdown",
      "metadata": {
        "id": "eyCs1pQcT_L0"
      },
      "source": [
        "https://plotly.com/python/builtin-colorscales/ para el color."
      ]
    },
    {
      "cell_type": "code",
      "metadata": {
        "id": "-tKdYoxzOvT4"
      },
      "source": [
        ""
      ],
      "execution_count": null,
      "outputs": []
    },
    {
      "cell_type": "code",
      "metadata": {
        "id": "gIEkGBSYK_a-"
      },
      "source": [
        ""
      ],
      "execution_count": null,
      "outputs": []
    },
    {
      "cell_type": "markdown",
      "metadata": {
        "id": "oiou5dwYPiie"
      },
      "source": [
        "Y ahora les toca a ustedes..."
      ]
    },
    {
      "cell_type": "code",
      "metadata": {
        "id": "RSkcdiKaPkJ4"
      },
      "source": [
        ""
      ],
      "execution_count": null,
      "outputs": []
    }
  ]
}